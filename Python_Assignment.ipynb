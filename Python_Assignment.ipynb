{
  "nbformat": 4,
  "nbformat_minor": 0,
  "metadata": {
    "colab": {
      "provenance": []
    },
    "kernelspec": {
      "name": "python3",
      "display_name": "Python 3"
    },
    "language_info": {
      "name": "python"
    }
  },
  "cells": [
    {
      "cell_type": "markdown",
      "source": [
        "# THEORY QUESTIONS\n"
      ],
      "metadata": {
        "id": "YQJ7E48eJll7"
      }
    },
    {
      "cell_type": "markdown",
      "source": [
        "1.What is Python and why is it popular?\n",
        "  \n",
        "\n",
        "\n",
        "  ->Python is a high-level, interpreted programming language known for its readability and simplicity.\n",
        "  \n",
        "  \n",
        "   -> Puthon is popular for combination of features of simpliciity and readability that makes accessible for beginners\n",
        "\n",
        "  ->Python is used in various fields like data science,web devolapment,automation etc\n"
      ],
      "metadata": {
        "id": "ISTwe3QMGIQI"
      }
    },
    {
      "cell_type": "markdown",
      "source": [
        "2.What is an interpreter in Python?\n",
        "\n",
        "->An interpreter is a computer program that directly executes instructions written in a programming language without requiring them to convert into machine language.it read and run code line by line"
      ],
      "metadata": {
        "id": "NymncLzVGmOM"
      }
    },
    {
      "cell_type": "markdown",
      "source": [
        "3.What are pre-defined keywords in Python?\n",
        "\n",
        "->Pre defined keywords are special keywords with specified meaning.they are also called as reserved keywords\n",
        "  \n",
        "*some example for keywords are\n",
        "   def,elif,else,"
      ],
      "metadata": {
        "id": "x48e9mD4Hbkl"
      }
    },
    {
      "cell_type": "markdown",
      "source": [
        "4.Can keywords be used as variable names?\n",
        "\n",
        "->No keywords cannot be used as variable name as they are reserved keywords"
      ],
      "metadata": {
        "id": "k3r0WxyUJBB3"
      }
    },
    {
      "cell_type": "markdown",
      "source": [
        "5.What is mutability in Python ?\n",
        "\n",
        "->Mutability means objects can be changed in place that is u can add remove or modify the elements"
      ],
      "metadata": {
        "id": "NTc48tHAJepz"
      }
    },
    {
      "cell_type": "markdown",
      "source": [
        "6.Why are lists mutable, but tuples are immutable?\n",
        "\n",
        "->Lists are a fundamental data structure for ordered, changeable collections.\n",
        "\n",
        "->whereas,Tuples are designed to be \"read-only\" data structures\n",
        "\n",
        "Hence lists are mutable whereas tuples are not"
      ],
      "metadata": {
        "id": "BoCU5juTJ-5M"
      }
    },
    {
      "cell_type": "markdown",
      "source": [
        "7.What is the difference between “==” and “is” operators in Python?\n",
        "\n",
        "->\"==\" operator checks whether the objects have same value.This most commonly used for comparing the objects\n",
        "\n",
        "->whereas,\"is\" operator checks if two variables point to the exact same object in memory. It compares the memory addresses of the objects"
      ],
      "metadata": {
        "id": "t1ROZTHxKokP"
      }
    },
    {
      "cell_type": "markdown",
      "source": [
        "8.What are logical operators in Python?\n",
        "\n",
        "->logical operators are used to combine combine conditional statements and check if condition is true or false\n",
        "\n",
        "*There are three logical operators\n",
        "\n",
        "\n",
        "\"and\",\"is\",\"not\""
      ],
      "metadata": {
        "id": "qewxBNQ8LshE"
      }
    },
    {
      "cell_type": "markdown",
      "source": [
        "9.What is type casting in Python?\n",
        "\n",
        "->Type casting is used for converting one variable to another\n",
        "\n",
        "->for example:converting string to int variable"
      ],
      "metadata": {
        "id": "a5A8H_iTMcyL"
      }
    },
    {
      "cell_type": "markdown",
      "source": [
        "10.What is the difference between implicit and explicit type casting?\n",
        "\n",
        "->Implicit type casting is done automatically by the  interpreter to prevent data loss.\n",
        "\n",
        "->whereas explicit type casting is done manually by the programmer using built in function"
      ],
      "metadata": {
        "id": "ccfKFMlHM5GJ"
      }
    },
    {
      "cell_type": "markdown",
      "source": [
        "11.What is the purpose of conditional statements in Python?\n",
        "\n",
        "->conditional statements are a way of makind decisions\n",
        "\n",
        "->it tells us if the condition is \"true\" do this if not do that"
      ],
      "metadata": {
        "id": "q1oKAjNrNhlu"
      }
    },
    {
      "cell_type": "markdown",
      "source": [
        "12.How does the elif statement work?\n",
        "\n",
        "->it is used to check anothet condition if \"if\" or an another \"elif\" condition is false"
      ],
      "metadata": {
        "id": "3fLd8K7BORgN"
      }
    },
    {
      "cell_type": "markdown",
      "source": [
        "13.What is the difference between for and while loops?\n",
        "\n",
        "->\"for\" loop is used for repeating something many time\n",
        "\n",
        "->\"while\" loop is used for repeating the condition unless its true"
      ],
      "metadata": {
        "id": "Nh3n-v9tOuT8"
      }
    },
    {
      "cell_type": "markdown",
      "source": [
        "# PRACTICLE QUESTIONS"
      ],
      "metadata": {
        "id": "2k4bktn1Q_Mp"
      }
    },
    {
      "cell_type": "markdown",
      "source": [
        "1.Write a Python program to print \"Hello, World!"
      ],
      "metadata": {
        "id": "aIkxdB_bRGEY"
      }
    },
    {
      "cell_type": "code",
      "source": [
        "print(\"Hello World\")"
      ],
      "metadata": {
        "colab": {
          "base_uri": "https://localhost:8080/"
        },
        "id": "i6FFyYANRNFR",
        "outputId": "82bf4661-2dac-491d-f490-547b3826f81f"
      },
      "execution_count": null,
      "outputs": [
        {
          "output_type": "stream",
          "name": "stdout",
          "text": [
            "Hello World\n"
          ]
        }
      ]
    },
    {
      "cell_type": "markdown",
      "source": [
        "2.Write a Python program that displays your name and age"
      ],
      "metadata": {
        "id": "jc5IKUpSRX3N"
      }
    },
    {
      "cell_type": "code",
      "source": [
        "Name=\"Ambhruni Yogesh Joshi\"\n",
        "Age=21\n",
        "print(\"my name is \",Name,\"i am\",Age,\"years old\")"
      ],
      "metadata": {
        "colab": {
          "base_uri": "https://localhost:8080/"
        },
        "id": "yAnNUXa1RbxL",
        "outputId": "9341666d-644d-47ff-e19d-813294c92ef3"
      },
      "execution_count": null,
      "outputs": [
        {
          "output_type": "stream",
          "name": "stdout",
          "text": [
            "my name is  Ambhruni Yogesh Joshi i am 21 years old\n"
          ]
        }
      ]
    },
    {
      "cell_type": "markdown",
      "source": [
        "3.Write code to print all the pre-defined keywords in Python using the keyword library?"
      ],
      "metadata": {
        "id": "J-DYocV1S_hk"
      }
    },
    {
      "cell_type": "code",
      "source": [
        "print(\"The pre-defined keywords in python are:\")\n",
        "import keyword\n",
        "print(keyword.kwlist)"
      ],
      "metadata": {
        "colab": {
          "base_uri": "https://localhost:8080/"
        },
        "id": "5Nnc_gRxTEzi",
        "outputId": "0b24d369-b9c6-41aa-9ccf-7134bc5e487a"
      },
      "execution_count": null,
      "outputs": [
        {
          "output_type": "stream",
          "name": "stdout",
          "text": [
            "The pre-defined keywords in python are:\n",
            "['False', 'None', 'True', 'and', 'as', 'assert', 'async', 'await', 'break', 'class', 'continue', 'def', 'del', 'elif', 'else', 'except', 'finally', 'for', 'from', 'global', 'if', 'import', 'in', 'is', 'lambda', 'nonlocal', 'not', 'or', 'pass', 'raise', 'return', 'try', 'while', 'with', 'yield']\n"
          ]
        }
      ]
    },
    {
      "cell_type": "markdown",
      "source": [
        "4.Write a program that checks if a given word is a Python keyword."
      ],
      "metadata": {
        "id": "nmWQyhCUTssJ"
      }
    },
    {
      "cell_type": "code",
      "source": [
        "import keyword\n",
        "\n",
        "word_to_check = input(\"Enter a word to check if it's a Python keyword: \")\n",
        "\n",
        "if keyword.iskeyword(word_to_check):\n",
        "  print(f\"'{word_to_check}' is a Python keyword.\")\n",
        "else:\n",
        "  print(f\"'{word_to_check}' is not a Python keyword.\")"
      ],
      "metadata": {
        "colab": {
          "base_uri": "https://localhost:8080/"
        },
        "id": "dYw2L8BzUEYU",
        "outputId": "c97da563-7007-416a-c70a-ad909f17afa1"
      },
      "execution_count": null,
      "outputs": [
        {
          "output_type": "stream",
          "name": "stdout",
          "text": [
            "Enter a word to check if it's a Python keyword: elif\n",
            "'elif' is a Python keyword.\n"
          ]
        }
      ]
    },
    {
      "cell_type": "markdown",
      "source": [
        "5.. Create a list and tuple in Python, and demonstrate how attempting to change an element works differently\n",
        "for each."
      ],
      "metadata": {
        "id": "nCKQ1IRxUpby"
      }
    },
    {
      "cell_type": "code",
      "source": [
        "my_list=[1,2,3,4,5]\n",
        "print(\"my original list:\",my_list)\n",
        "my_list[0]=10\n",
        "print(\"my updated list:\",my_list)\n",
        "my_tuple=(1,2,3,4,5)\n",
        "print(\"my original tuple:\",my_tuple)\n",
        "try:\n",
        "  my_tuple[0]=10\n",
        "  print(\"my updated tuple:\",my_tuple)\n",
        "except TypeError as e:\n",
        "  print(\"Error attempting to modify tuple:\", e)"
      ],
      "metadata": {
        "colab": {
          "base_uri": "https://localhost:8080/"
        },
        "id": "6lmvNoLJVXuI",
        "outputId": "dbccb0fa-d70e-4110-9632-9cb4c54908fb"
      },
      "execution_count": null,
      "outputs": [
        {
          "output_type": "stream",
          "name": "stdout",
          "text": [
            "my original list: [1, 2, 3, 4, 5]\n",
            "my updated list: [10, 2, 3, 4, 5]\n",
            "my original tuple: (1, 2, 3, 4, 5)\n",
            "Error attempting to modify tuple: 'tuple' object does not support item assignment\n"
          ]
        }
      ]
    },
    {
      "cell_type": "markdown",
      "source": [
        "6. Write a function to demonstrate the behavior of mutable and immutable arguments?"
      ],
      "metadata": {
        "id": "ey3bwRR2Malr"
      }
    },
    {
      "cell_type": "code",
      "source": [
        "def demonstrate_mutability(mutable_list, immutable_int):\n",
        "  print(\"Inside the function:\")\n",
        "  print(\"Original mutable list:\", mutable_list)\n",
        "  print(\"Original immutable integer:\", immutable_int)\n",
        "  mutable_list.append(4)\n",
        "  print(\"Modified mutable list:\", mutable_list)\n",
        "  immutable_int += 1\n",
        "  print(\"Modified immutable integer:\", immutable_int)\n",
        "  print(\"-\" * 20)\n",
        "my_list = [1, 2, 3]\n",
        "my_int = 10\n",
        "print(\"Before calling the function:\")\n",
        "print(\"Original list:\", my_list)\n",
        "print(\"Original integer:\", my_int)\n",
        "print(\"-\" * 20)\n",
        "demonstrate_mutability(my_list, my_int)\n",
        "print(\"After calling the function:\")\n",
        "print(\"Original list:\", my_list)\n",
        "print(\"Original integer:\", my_int)"
      ],
      "metadata": {
        "colab": {
          "base_uri": "https://localhost:8080/"
        },
        "id": "_Wywj5ilMilA",
        "outputId": "663794d8-7e76-4083-a2e2-0010ec98ccdb"
      },
      "execution_count": null,
      "outputs": [
        {
          "output_type": "stream",
          "name": "stdout",
          "text": [
            "Before calling the function:\n",
            "Original list: [1, 2, 3]\n",
            "Original integer: 10\n",
            "--------------------\n",
            "Inside the function:\n",
            "Original mutable list: [1, 2, 3]\n",
            "Original immutable integer: 10\n",
            "Modified mutable list: [1, 2, 3, 4]\n",
            "Modified immutable integer: 11\n",
            "--------------------\n",
            "After calling the function:\n",
            "Original list: [1, 2, 3, 4]\n",
            "Original integer: 10\n"
          ]
        }
      ]
    },
    {
      "cell_type": "markdown",
      "source": [
        "7. Write a program that performs basic arithmetic operations on two user-input numbers?"
      ],
      "metadata": {
        "id": "M5icIUpoNCfM"
      }
    },
    {
      "cell_type": "code",
      "source": [
        "num1 = float(input(\"Enter the first number: \"))\n",
        "num2 = float(input(\"Enter the second number: \"))\n",
        "addition = num1 + num2\n",
        "subtract = num1 - num2\n",
        "multiply = num1 * num2\n",
        "divide = num1 / num2\n",
        "print(f\"Addition: {addition}\")\n",
        "print(f\"Subtraction: {subtract}\")\n",
        "print(f\"Multiplication: {multiply}\")\n",
        "print(f\"Division: {divide}\")"
      ],
      "metadata": {
        "colab": {
          "base_uri": "https://localhost:8080/"
        },
        "id": "pPJDqucCNHST",
        "outputId": "a81b9a5a-eaac-4277-bf1b-0698df6e3a17"
      },
      "execution_count": null,
      "outputs": [
        {
          "output_type": "stream",
          "name": "stdout",
          "text": [
            "Enter the first number: 10\n",
            "Enter the second number: 15\n",
            "Addition: 25.0\n",
            "Subtraction: -5.0\n",
            "Multiplication: 150.0\n",
            "Division: 0.6666666666666666\n"
          ]
        }
      ]
    },
    {
      "cell_type": "markdown",
      "source": [
        "8.Write a program to demonstrate the use of logical operators?"
      ],
      "metadata": {
        "id": "R9cjgXLBP1QR"
      }
    },
    {
      "cell_type": "code",
      "source": [
        "x = 10\n",
        "y = 5\n",
        "print(f\"Is x > 5 and y < 10? {x > 5 and y < 10}\")\n",
        "a = 3\n",
        "b = 8\n",
        "print(f\"Is a < 5 or b > 10? {a < 5 or b > 10}\")\n",
        "temperature = 25\n",
        "if temperature > 20 and not is_raining:\n",
        "  print(\"It's a good day for outdoor activities.\")\n",
        "else:\n",
        "  print(\"Maybe stay inside today.\")"
      ],
      "metadata": {
        "colab": {
          "base_uri": "https://localhost:8080/"
        },
        "id": "WIg5S3NHQqkY",
        "outputId": "1b7bb246-8c15-46c8-be44-70c1d6bf978c"
      },
      "execution_count": null,
      "outputs": [
        {
          "output_type": "stream",
          "name": "stdout",
          "text": [
            "Is x > 5 and y < 10? True\n",
            "Is a < 5 or b > 10? True\n",
            "Maybe stay inside today.\n"
          ]
        }
      ]
    },
    {
      "cell_type": "markdown",
      "source": [
        "9. Write a Python program to convert user input from string to integer, float, and boolean types?"
      ],
      "metadata": {
        "id": "WGUAAI5DSPEv"
      }
    },
    {
      "cell_type": "code",
      "source": [
        "input_string = input(\"Enter a value: \")\n",
        "try:\n",
        "  integer_value = int(input_string)\n",
        "  print(f\"Converted to integer: {integer_value} (Type: {type(integer_value)})\")\n",
        "except ValueError:\n",
        "  print(f\"Could not convert '{input_string}' to integer\")\n",
        "try:\n",
        "  float_value = float(input_string)\n",
        "  print(f\"Converted to float: {float_value} (Type: {type(float_value)})\")\n",
        "except ValueError:\n",
        "  print(f\"Could not convert '{input_string}' to float.\")\n",
        "boolean_value = bool(input_string.lower() in ['true', '1'])\n",
        "print(f\"Converted to boolean (simple check): {boolean_value} (Type: {type(boolean_value)})\")\n",
        "def string_to_boolean(s):\n",
        "  s = s.lower()\n",
        "  if s in ['true', 't', 'yes', 'y', '1']:\n",
        "    return True\n",
        "  elif s in ['false', 'f', 'no', 'n', '0']:\n",
        "    return False\n",
        "  else:\n",
        "    raise ValueError(f\"Cannot convert '{s}' to boolean.\")\n",
        "\n",
        "try:\n",
        "  boolean_value_robust = string_to_boolean(input_string)\n",
        "  print(f\"Converted to boolean (robust check): {boolean_value_robust} (Type: {type(boolean_value_robust)})\")\n",
        "except ValueError as e:\n",
        "  print(e)"
      ],
      "metadata": {
        "colab": {
          "base_uri": "https://localhost:8080/"
        },
        "id": "Gwx8jTCpSVV3",
        "outputId": "cdbdc275-0498-4fe0-a3cf-9f32288a89d1"
      },
      "execution_count": null,
      "outputs": [
        {
          "output_type": "stream",
          "name": "stdout",
          "text": [
            "Enter a value: 12\n",
            "Converted to integer: 12 (Type: <class 'int'>)\n",
            "Converted to float: 12.0 (Type: <class 'float'>)\n",
            "Converted to boolean (simple check): False (Type: <class 'bool'>)\n",
            "Cannot convert '12' to boolean.\n"
          ]
        }
      ]
    },
    {
      "cell_type": "markdown",
      "source": [
        "10.Write code to demonstrate type casting with list elements?"
      ],
      "metadata": {
        "id": "9mwZmtfAVYY2"
      }
    },
    {
      "cell_type": "code",
      "source": [
        "my_list = [\"1\", \"2\", \"3.5\", \"4\"]\n",
        "print(\"Original list:\", my_list)\n",
        "int_list = [int(item) for item in my_list[:2] + my_list[3:]]\n",
        "print(\"List after converting to integers:\", int_list)\n",
        "float_list = [float(item) for item in my_list]\n",
        "print(\"List after converting to floats:\", float_list)\n",
        "string_list = [str(item) for item in int_list]\n",
        "print(\"List after converting integers back to strings:\", string_list)"
      ],
      "metadata": {
        "colab": {
          "base_uri": "https://localhost:8080/"
        },
        "id": "drK46tt28wkU",
        "outputId": "27b62b3d-1b42-4ce4-cdaa-6299795ae52d"
      },
      "execution_count": null,
      "outputs": [
        {
          "output_type": "stream",
          "name": "stdout",
          "text": [
            "Original list: ['1', '2', '3.5', '4']\n",
            "List after converting to integers: [1, 2, 4]\n",
            "List after converting to floats: [1.0, 2.0, 3.5, 4.0]\n",
            "List after converting integers back to strings: ['1', '2', '4']\n"
          ]
        }
      ]
    },
    {
      "cell_type": "markdown",
      "source": [
        "11.Write a program that checks if a number is positive, negative, or zero?"
      ],
      "metadata": {
        "id": "KVD7D4IGAmxJ"
      }
    },
    {
      "cell_type": "code",
      "source": [
        "num = float(input(\"Enter a number: \"))\n",
        "if num > 0:\n",
        "  print(\"The number is positive.\")\n",
        "elif num < 0:\n",
        "  print(\"The number is negative.\")\n",
        "else:\n",
        "  print(\"The number is zero.\")"
      ],
      "metadata": {
        "colab": {
          "base_uri": "https://localhost:8080/"
        },
        "id": "s6ZvSy_2ArOJ",
        "outputId": "bb8a18a5-76a4-411c-9b17-8dc40d88c6b8"
      },
      "execution_count": null,
      "outputs": [
        {
          "output_type": "stream",
          "name": "stdout",
          "text": [
            "Enter a number: 10\n",
            "The number is positive.\n"
          ]
        }
      ]
    },
    {
      "cell_type": "markdown",
      "source": [
        "12. Write a for loop to print numbers from 1 to 10?"
      ],
      "metadata": {
        "id": "89tf9mkYBfTz"
      }
    },
    {
      "cell_type": "code",
      "source": [
        "for i in range(1, 11):\n",
        "  print(i)\n",
        "\n"
      ],
      "metadata": {
        "colab": {
          "base_uri": "https://localhost:8080/"
        },
        "id": "C22Iv_4RBpiv",
        "outputId": "fcf25e62-bf52-4f1d-8e9b-5088c9aecf7b"
      },
      "execution_count": null,
      "outputs": [
        {
          "output_type": "stream",
          "name": "stdout",
          "text": [
            "1\n",
            "2\n",
            "3\n",
            "4\n",
            "5\n",
            "6\n",
            "7\n",
            "8\n",
            "9\n",
            "10\n"
          ]
        }
      ]
    },
    {
      "cell_type": "markdown",
      "source": [
        "13.Write a Python program to find the sum of all even numbers between 1 and 50?"
      ],
      "metadata": {
        "id": "3j5jTPFIB7-8"
      }
    },
    {
      "cell_type": "code",
      "source": [
        "sum_of_even_numbers = 0\n",
        "for num in range(1, 51):\n",
        " if num % 2 == 0:\n",
        "   sum_of_even_numbers += num\n",
        "print(f\"The sum of all even numbers between 1 and 50 is: {sum_of_even_numbers}\")"
      ],
      "metadata": {
        "colab": {
          "base_uri": "https://localhost:8080/"
        },
        "id": "4MmPDEo0CAT1",
        "outputId": "275be369-cc30-49e3-9753-9e404d437104"
      },
      "execution_count": null,
      "outputs": [
        {
          "output_type": "stream",
          "name": "stdout",
          "text": [
            "The sum of all even numbers between 1 and 50 is: 650\n"
          ]
        }
      ]
    },
    {
      "cell_type": "markdown",
      "source": [
        "14.. Write a program to reverse a string using a while loop?"
      ],
      "metadata": {
        "id": "mre5QWxYCTfs"
      }
    },
    {
      "cell_type": "code",
      "source": [
        "input_string = input(\"Enter a string to reverse: \")\n",
        "reversed_string = \"\"\n",
        "index = len(input_string) - 1\n",
        "while index >= 0:\n",
        "  reversed_string += input_string[index]\n",
        "index = index - 1\n",
        "print(f\"The reversed string is: {reversed_string}\")"
      ],
      "metadata": {
        "id": "mZnzEWMmJH5G"
      },
      "execution_count": null,
      "outputs": []
    },
    {
      "cell_type": "markdown",
      "source": [
        "15. Write a Python program to calculate the factorial of a number provided by the user using a while loop?"
      ],
      "metadata": {
        "id": "jbJR--2_JIqt"
      }
    },
    {
      "cell_type": "code",
      "source": [
        "num = int(input(\"Enter a non-negative integer to calculate its factorial: \"))\n",
        "if num < 0:\n",
        "  print(\"Factorial is not defined for negative numbers.\")\n",
        "elif num == 0:\n",
        "  print(\"The factorial of 0 is 1.\")\n",
        "else:\n",
        "  factorial = 1\n",
        "  i = 1\n",
        "  while i <= num:\n",
        "    factorial *= i\n",
        "    i += 1\n",
        "  print(f\"The factorial of {num} is {factorial}\")"
      ],
      "metadata": {
        "colab": {
          "base_uri": "https://localhost:8080/"
        },
        "id": "wBxS2yiXJM_j",
        "outputId": "e8c283f6-c93a-42ce-91e3-262545fa28fc"
      },
      "execution_count": null,
      "outputs": [
        {
          "output_type": "stream",
          "name": "stdout",
          "text": [
            "Enter a non-negative integer to calculate its factorial: 10\n",
            "The factorial of 10 is 3628800\n"
          ]
        }
      ]
    }
  ]
}